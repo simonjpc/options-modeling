{
 "cells": [
  {
   "cell_type": "code",
   "execution_count": null,
   "metadata": {},
   "outputs": [],
   "source": [
    "import gc\n",
    "import numpy as np\n",
    "import pandas as pd\n",
    "from tqdm import tqdm\n",
    "from numba import njit\n",
    "from scipy.stats import norm\n",
    "import statsmodels.api as sm\n",
    "from scipy.stats import kurtosis\n",
    "from joblib import Parallel, delayed\n",
    "from sklearn.linear_model import LinearRegression\n",
    "from utils import build_dict, isolate_option_types"
   ]
  },
  {
   "cell_type": "code",
   "execution_count": 2,
   "metadata": {},
   "outputs": [],
   "source": [
    "STOCK_PRICE_RELATIVE_PATH = \"/Volumes/T7/backup/Documents/perso/repos_perso/options-modeling/data/5min_hist_SPY_2023.csv\"\n",
    "OPTIONS_CHAIN_RELATIVE_PATH = \"/Volumes/T7/backup/Documents/perso/repos_perso/options-modeling/data/spy_options_15mins/spy_15x_2023q1/spy_15x_202301.txt\""
   ]
  },
  {
   "cell_type": "code",
   "execution_count": 3,
   "metadata": {},
   "outputs": [],
   "source": [
    "stock_price_data = pd.read_csv(STOCK_PRICE_RELATIVE_PATH)"
   ]
  },
  {
   "cell_type": "code",
   "execution_count": 4,
   "metadata": {},
   "outputs": [],
   "source": [
    "with open(OPTIONS_CHAIN_RELATIVE_PATH, \"r\") as f:\n",
    "    options_chain_data = f.readlines()\n",
    "\n",
    "raw_keys = options_chain_data[0]\n",
    "options_hist_data = [\n",
    "    item\n",
    "    for raw_values in options_chain_data[1:]\n",
    "    for item in isolate_option_types(build_dict(raw_keys, raw_values))\n",
    "]\n",
    "options_chain_data_hist = pd.DataFrame(options_hist_data)"
   ]
  },
  {
   "cell_type": "code",
   "execution_count": 5,
   "metadata": {},
   "outputs": [
    {
     "data": {
      "text/plain": [
       "['[QUOTE_UNIXTIME], [QUOTE_READTIME], [QUOTE_DATE], [QUOTE_TIME_HOURS], [UNDERLYING_LAST], [EXPIRE_DATE], [EXPIRE_UNIX], [DTE], [C_DELTA], [C_GAMMA], [C_VEGA], [C_THETA], [C_RHO], [C_IV], [C_VOLUME], [C_LAST], [C_SIZE], [C_BID], [C_ASK], [STRIKE], [P_BID], [P_ASK], [P_SIZE], [P_LAST], [P_DELTA], [P_GAMMA], [P_VEGA], [P_THETA], [P_RHO], [P_IV], [P_VOLUME], [STRIKE_DISTANCE], [STRIKE_DISTANCE_PCT]\\n',\n",
       " '1672756210, 2023-01-03 09:30, 2023-01-03, 9.500000, 384.420000, 2023-01-03, 1672779600, 0.270000, 1.000000, 0.000000, 0.000000, 0.000000, 0.000000, , 0.000000, 73.660000, 1 x 1, 73.730000, 74.930000, 310.000000, 0.000000, 0.010000, 0 x 6217, 0.010000, -0.001030, 0.000170, 0.000190, -0.005120, -0.000470, 1.005550, 0.000000, 74.400000, 0.194000\\n',\n",
       " '1672756210, 2023-01-03 09:30, 2023-01-03, 9.500000, 384.420000, 2023-01-03, 1672779600, 0.270000, 0.922300, 0.006510, 0.021150, -0.469680, 0.000790, 3.985680, 0.000000, 62.710000, 1 x 1, 63.720000, 66.040000, 320.000000, 0.000000, 0.010000, 0 x 6217, 0.020000, -0.000640, 0.000230, 0.000620, -0.005270, -0.000010, 0.822500, 0.000000, 64.400000, 0.168000\\n']"
      ]
     },
     "execution_count": 5,
     "metadata": {},
     "output_type": "execute_result"
    }
   ],
   "source": [
    "options_chain_data[:3]"
   ]
  },
  {
   "cell_type": "code",
   "execution_count": 140,
   "metadata": {},
   "outputs": [],
   "source": [
    "# options data manip\n",
    "options_chain_data_hist_reduced = options_chain_data_hist.rename(columns={\"quote_readtime\": \"datetime\"})\n",
    "call_chain_data_hist_reduced = options_chain_data_hist_reduced.loc[\n",
    "    options_chain_data_hist_reduced[\"type\"] == \"call\",\n",
    "    [\"datetime\", \"strike\", \"iv\", \"expire_date\", \"last\", \"bid\", \"ask\", \"volume\", \"size\", \"delta\", \"gamma\", \"vega\", \"theta\", \"rho\"]\n",
    "]\n",
    "put_chain_data_hist_reduced = options_chain_data_hist_reduced.loc[\n",
    "    options_chain_data_hist_reduced[\"type\"] == \"put\",\n",
    "    [\"datetime\", \"strike\", \"iv\", \"expire_date\", \"last\", \"bid\", \"ask\", \"volume\", \"size\", \"delta\", \"gamma\", \"vega\", \"theta\", \"rho\"]\n",
    "]\n",
    "\n",
    "# stocks data manip\n",
    "stock_price_data_15min = stock_price_data.loc[stock_price_data[\"date\"].apply(\n",
    "    lambda x:(\":30\" in x[:-3]) or (\":15\" in x[:-3]) or (\":00\" in x[:-3]) or (\":45\" in x[:-3])\n",
    "), [\"date\", \"open\", \"volume\"]]\n",
    "stock_price_data_15min = stock_price_data_15min.rename(columns={\"date\": \"datetime\", \"volume\": \"underlying_volume\"})\n",
    "stock_price_data_15min[\"datetime\"] = stock_price_data_15min[\"datetime\"].apply(lambda x: x[:-3])\n",
    "\n",
    "# reset indexes\n",
    "call_chain_data_hist_reduced = call_chain_data_hist_reduced.set_index(\"datetime\")\n",
    "put_chain_data_hist_reduced = put_chain_data_hist_reduced.set_index(\"datetime\")\n",
    "stock_price_data_15min = stock_price_data_15min.set_index(\"datetime\")\n",
    "\n",
    "concat_call_options_chain_prices = call_chain_data_hist_reduced.join(stock_price_data_15min, how=\"left\")\n",
    "concat_call_options_chain_prices = concat_call_options_chain_prices[concat_call_options_chain_prices.index.map(lambda x: \" 16:00\" not in x)]"
   ]
  },
  {
   "cell_type": "code",
   "execution_count": 141,
   "metadata": {},
   "outputs": [
    {
     "name": "stderr",
     "output_type": "stream",
     "text": [
      "Processing groups: 100%|██████████| 6641/6641 [00:41<00:00, 158.50it/s]\n"
     ]
    }
   ],
   "source": [
    "# Ensure datetime index is datetime type and sorted\n",
    "df = concat_call_options_chain_prices.copy()\n",
    "df.index = pd.to_datetime(df.index)\n",
    "df = df.sort_index()\n",
    "\n",
    "# Function to process a single (strike, expiry) group\n",
    "def tag_returns_process_group(strike, expire_date, group):\n",
    "    group = group.sort_index()\n",
    "    times = group.index\n",
    "    asks = group['ask'].values\n",
    "    bids = group['bid'].values\n",
    "    labels = np.zeros(len(group), dtype=np.int8)\n",
    "    percent_increase = np.zeros(len(group), dtype=np.float16)\n",
    "    hours_to_max = np.zeros(len(group), dtype=np.float16)\n",
    "\n",
    "    for i in range(len(group)):\n",
    "        ask_t = asks[i]\n",
    "        if ask_t == 0:\n",
    "            continue\n",
    "\n",
    "        time_t = times[i]\n",
    "        window_end = min(time_t + pd.Timedelta(weeks=1), pd.to_datetime(expire_date))\n",
    "        mask = (times > time_t) & (times <= window_end)\n",
    "\n",
    "        future_bids = bids[mask]\n",
    "        future_times = times[mask]\n",
    "        returns = (future_bids - ask_t) / ask_t if len(future_bids) > 0 else np.array([])\n",
    "\n",
    "        if len(returns) > 0:\n",
    "            max_idx = np.argmax(returns)\n",
    "            max_return = returns[max_idx]\n",
    "            max_time = future_times[max_idx]\n",
    "\n",
    "            if max_return >= 1: # greater or equals to 100%\n",
    "                labels[i] = 1\n",
    "                percent_increase[i] = (np.max(bids[mask]) - ask_t) / ask_t\n",
    "                hours_to_max[i] = (max_time - time_t).total_seconds() / 3600.0  # in hours\n",
    "\n",
    "    group_result = group.copy()\n",
    "    group_result['label'] = labels\n",
    "    group_result['percent_increase'] = percent_increase\n",
    "    group_result['hours_to_max'] = hours_to_max\n",
    "\n",
    "    return group_result\n",
    "\n",
    "# Group the DataFrame\n",
    "grouped = df.groupby(['strike', 'expire_date'])\n",
    "\n",
    "# Process in parallel\n",
    "results = Parallel(n_jobs=-1, backend='loky')(\n",
    "    delayed(tag_returns_process_group)(strike, expire_date, group)\n",
    "    for (strike, expire_date), group in tqdm(grouped, desc=\"Processing groups\")\n",
    ")\n",
    "\n",
    "# Combine results\n",
    "df_labeled = pd.concat(results).sort_index()"
   ]
  },
  {
   "cell_type": "code",
   "execution_count": 142,
   "metadata": {},
   "outputs": [
    {
     "name": "stderr",
     "output_type": "stream",
     "text": [
      "/Users/simon/Documents/venvs/options_env/lib/python3.13/site-packages/pandas/io/formats/format.py:1458: RuntimeWarning: overflow encountered in cast\n",
      "  has_large_values = (abs_vals > 1e6).any()\n"
     ]
    },
    {
     "data": {
      "text/html": [
       "<div>\n",
       "<style scoped>\n",
       "    .dataframe tbody tr th:only-of-type {\n",
       "        vertical-align: middle;\n",
       "    }\n",
       "\n",
       "    .dataframe tbody tr th {\n",
       "        vertical-align: top;\n",
       "    }\n",
       "\n",
       "    .dataframe thead th {\n",
       "        text-align: right;\n",
       "    }\n",
       "</style>\n",
       "<table border=\"1\" class=\"dataframe\">\n",
       "  <thead>\n",
       "    <tr style=\"text-align: right;\">\n",
       "      <th></th>\n",
       "      <th>strike</th>\n",
       "      <th>iv</th>\n",
       "      <th>expire_date</th>\n",
       "      <th>last</th>\n",
       "      <th>bid</th>\n",
       "      <th>ask</th>\n",
       "      <th>volume</th>\n",
       "      <th>size</th>\n",
       "      <th>delta</th>\n",
       "      <th>gamma</th>\n",
       "      <th>vega</th>\n",
       "      <th>theta</th>\n",
       "      <th>rho</th>\n",
       "      <th>open</th>\n",
       "      <th>underlying_volume</th>\n",
       "      <th>label</th>\n",
       "      <th>percent_increase</th>\n",
       "      <th>hours_to_max</th>\n",
       "    </tr>\n",
       "    <tr>\n",
       "      <th>datetime</th>\n",
       "      <th></th>\n",
       "      <th></th>\n",
       "      <th></th>\n",
       "      <th></th>\n",
       "      <th></th>\n",
       "      <th></th>\n",
       "      <th></th>\n",
       "      <th></th>\n",
       "      <th></th>\n",
       "      <th></th>\n",
       "      <th></th>\n",
       "      <th></th>\n",
       "      <th></th>\n",
       "      <th></th>\n",
       "      <th></th>\n",
       "      <th></th>\n",
       "      <th></th>\n",
       "      <th></th>\n",
       "    </tr>\n",
       "  </thead>\n",
       "  <tbody>\n",
       "    <tr>\n",
       "      <th>2023-01-03 09:30:00</th>\n",
       "      <td>120.0</td>\n",
       "      <td>0.47386</td>\n",
       "      <td>2024-12-20</td>\n",
       "      <td>261.90</td>\n",
       "      <td>261.80</td>\n",
       "      <td>271.80</td>\n",
       "      <td>0.0</td>\n",
       "      <td>20 x 10</td>\n",
       "      <td>0.96802</td>\n",
       "      <td>0.00026</td>\n",
       "      <td>0.21859</td>\n",
       "      <td>-0.00764</td>\n",
       "      <td>1.48139</td>\n",
       "      <td>384.37</td>\n",
       "      <td>1973684.0</td>\n",
       "      <td>0</td>\n",
       "      <td>0.0</td>\n",
       "      <td>0.0</td>\n",
       "    </tr>\n",
       "    <tr>\n",
       "      <th>2023-01-03 09:30:00</th>\n",
       "      <td>350.0</td>\n",
       "      <td>0.26169</td>\n",
       "      <td>2023-09-29</td>\n",
       "      <td>73.71</td>\n",
       "      <td>57.10</td>\n",
       "      <td>59.04</td>\n",
       "      <td>0.0</td>\n",
       "      <td>100 x 100</td>\n",
       "      <td>0.73307</td>\n",
       "      <td>0.00373</td>\n",
       "      <td>1.06224</td>\n",
       "      <td>-0.07085</td>\n",
       "      <td>1.65471</td>\n",
       "      <td>384.37</td>\n",
       "      <td>1973684.0</td>\n",
       "      <td>0</td>\n",
       "      <td>0.0</td>\n",
       "      <td>0.0</td>\n",
       "    </tr>\n",
       "    <tr>\n",
       "      <th>2023-01-03 09:30:00</th>\n",
       "      <td>350.0</td>\n",
       "      <td>0.26361</td>\n",
       "      <td>2023-09-15</td>\n",
       "      <td>56.40</td>\n",
       "      <td>56.55</td>\n",
       "      <td>58.27</td>\n",
       "      <td>0.0</td>\n",
       "      <td>10 x 10</td>\n",
       "      <td>0.73505</td>\n",
       "      <td>0.00373</td>\n",
       "      <td>1.03201</td>\n",
       "      <td>-0.07365</td>\n",
       "      <td>1.57997</td>\n",
       "      <td>384.37</td>\n",
       "      <td>1973684.0</td>\n",
       "      <td>0</td>\n",
       "      <td>0.0</td>\n",
       "      <td>0.0</td>\n",
       "    </tr>\n",
       "    <tr>\n",
       "      <th>2023-01-03 09:30:00</th>\n",
       "      <td>350.0</td>\n",
       "      <td>0.26292</td>\n",
       "      <td>2023-06-30</td>\n",
       "      <td>50.48</td>\n",
       "      <td>50.27</td>\n",
       "      <td>51.91</td>\n",
       "      <td>0.0</td>\n",
       "      <td>100 x 19</td>\n",
       "      <td>0.75056</td>\n",
       "      <td>0.00444</td>\n",
       "      <td>0.83973</td>\n",
       "      <td>-0.08187</td>\n",
       "      <td>1.16307</td>\n",
       "      <td>384.37</td>\n",
       "      <td>1973684.0</td>\n",
       "      <td>0</td>\n",
       "      <td>0.0</td>\n",
       "      <td>0.0</td>\n",
       "    </tr>\n",
       "    <tr>\n",
       "      <th>2023-01-03 09:30:00</th>\n",
       "      <td>350.0</td>\n",
       "      <td>0.26490</td>\n",
       "      <td>2023-06-16</td>\n",
       "      <td>47.64</td>\n",
       "      <td>49.68</td>\n",
       "      <td>51.12</td>\n",
       "      <td>0.0</td>\n",
       "      <td>120 x 210</td>\n",
       "      <td>0.75534</td>\n",
       "      <td>0.00454</td>\n",
       "      <td>0.79960</td>\n",
       "      <td>-0.08671</td>\n",
       "      <td>1.08544</td>\n",
       "      <td>384.37</td>\n",
       "      <td>1973684.0</td>\n",
       "      <td>0</td>\n",
       "      <td>0.0</td>\n",
       "      <td>0.0</td>\n",
       "    </tr>\n",
       "  </tbody>\n",
       "</table>\n",
       "</div>"
      ],
      "text/plain": [
       "                     strike       iv expire_date    last     bid     ask  \\\n",
       "datetime                                                                   \n",
       "2023-01-03 09:30:00   120.0  0.47386  2024-12-20  261.90  261.80  271.80   \n",
       "2023-01-03 09:30:00   350.0  0.26169  2023-09-29   73.71   57.10   59.04   \n",
       "2023-01-03 09:30:00   350.0  0.26361  2023-09-15   56.40   56.55   58.27   \n",
       "2023-01-03 09:30:00   350.0  0.26292  2023-06-30   50.48   50.27   51.91   \n",
       "2023-01-03 09:30:00   350.0  0.26490  2023-06-16   47.64   49.68   51.12   \n",
       "\n",
       "                     volume       size    delta    gamma     vega    theta  \\\n",
       "datetime                                                                     \n",
       "2023-01-03 09:30:00     0.0    20 x 10  0.96802  0.00026  0.21859 -0.00764   \n",
       "2023-01-03 09:30:00     0.0  100 x 100  0.73307  0.00373  1.06224 -0.07085   \n",
       "2023-01-03 09:30:00     0.0    10 x 10  0.73505  0.00373  1.03201 -0.07365   \n",
       "2023-01-03 09:30:00     0.0   100 x 19  0.75056  0.00444  0.83973 -0.08187   \n",
       "2023-01-03 09:30:00     0.0  120 x 210  0.75534  0.00454  0.79960 -0.08671   \n",
       "\n",
       "                         rho    open  underlying_volume  label  \\\n",
       "datetime                                                         \n",
       "2023-01-03 09:30:00  1.48139  384.37          1973684.0      0   \n",
       "2023-01-03 09:30:00  1.65471  384.37          1973684.0      0   \n",
       "2023-01-03 09:30:00  1.57997  384.37          1973684.0      0   \n",
       "2023-01-03 09:30:00  1.16307  384.37          1973684.0      0   \n",
       "2023-01-03 09:30:00  1.08544  384.37          1973684.0      0   \n",
       "\n",
       "                     percent_increase  hours_to_max  \n",
       "datetime                                             \n",
       "2023-01-03 09:30:00               0.0           0.0  \n",
       "2023-01-03 09:30:00               0.0           0.0  \n",
       "2023-01-03 09:30:00               0.0           0.0  \n",
       "2023-01-03 09:30:00               0.0           0.0  \n",
       "2023-01-03 09:30:00               0.0           0.0  "
      ]
     },
     "execution_count": 142,
     "metadata": {},
     "output_type": "execute_result"
    }
   ],
   "source": [
    "df_labeled.head()"
   ]
  },
  {
   "cell_type": "code",
   "execution_count": 38,
   "metadata": {},
   "outputs": [
    {
     "data": {
      "text/plain": [
       "<Axes: xlabel='datetime'>"
      ]
     },
     "execution_count": 38,
     "metadata": {},
     "output_type": "execute_result"
    },
    {
     "data": {
      "image/png": "[encoded data removed]",
      "text/plain": [
       "<Figure size 640x480 with 1 Axes>"
      ]
     },
     "metadata": {},
     "output_type": "display_data"
    }
   ],
   "source": [
    "df_labeled.loc[(df_labeled[\"strike\"] == 400) & (df_labeled[\"expire_date\"] == \"2023-01-20\"), \"volume\"].head(500).plot()"
   ]
  },
  {
   "cell_type": "code",
   "execution_count": 150,
   "metadata": {},
   "outputs": [],
   "source": [
    "# original volume data contains cumulative volume per day\n",
    "# let's compute delta volume\n",
    "\n",
    "df_labeled['date'] = df_labeled.index.date\n",
    "df_labeled['delta_volume'] = (\n",
    "    df_labeled.groupby(['date', 'strike', 'expire_date'])['volume']\n",
    "      .diff()\n",
    "      .fillna(0)  # The first row of each group gets NaN from diff; fill it with 0\n",
    ")\n",
    "df_labeled = df_labeled.drop(columns='date')"
   ]
  },
  {
   "cell_type": "code",
   "execution_count": 10,
   "metadata": {},
   "outputs": [
    {
     "data": {
      "text/plain": [
       "<Axes: xlabel='datetime'>"
      ]
     },
     "execution_count": 10,
     "metadata": {},
     "output_type": "execute_result"
    },
    {
     "data": {
      "image/png": "[encoded data removed]",
      "text/plain": [
       "<Figure size 640x480 with 1 Axes>"
      ]
     },
     "metadata": {},
     "output_type": "display_data"
    }
   ],
   "source": [
    "df_labeled.loc[(df_labeled[\"strike\"] == 400) & (df_labeled[\"expire_date\"] == \"2023-01-20\"), \"delta_volume\"].head(500).plot()"
   ]
  },
  {
   "cell_type": "markdown",
   "metadata": {},
   "source": [
    "$$ \\frac{\\sum_{j=1}^{J}VOL_j * \\frac{|(P_t^j - P_{t-1}^j) - \\Delta_{t-1}^{j}(S_t - S_{t-1})|}{DVOL_t^j}}{\\sum_{j=1}^{J}VOL_j} $$"
   ]
  },
  {
   "cell_type": "markdown",
   "metadata": {},
   "source": [
    "$$ IV_{i,t} = \\int_{S_{i,t}}^{\\infty} \\frac{2\\left(1 - \\log({\\frac{K_i}{S_{i,t}}})\\right)}{K_i^2} C(t, \\tau; K_i) dK_i + \n",
    "\\int_{0}^{S_{i,t}} \\frac{2\\left(1 + \\log({\\frac{S_{i,t}}{K_i}})\\right)}{K_i^2} P(t, \\tau; K_i) dK_i $$\n",
    "\n",
    "$$ IV_{i,t}^+ = \\int_{S_{i,t}}^{\\infty} \\frac{2\\left(1 - \\log({\\frac{K_i}{S_{i,t}}})\\right)}{K_i^2} C(t, \\tau; K_i) dK_i $$\n",
    "\n",
    "$$ IV_{i,t}^- = \\int_{0}^{S_{i,t}} \\frac{2\\left(1 + \\log({\\frac{S_{i,t}}{K_i}})\\right)}{K_i^2} P(t, \\tau; K_i) dK_i $$"
   ]
  },
  {
   "cell_type": "markdown",
   "metadata": {},
   "source": [
    "$$ ivd = \\sum_{j=1}^{J} \\frac{\\Delta{IV_j^2}}{sum_{j}\\Delta{IV_j^2}} \\times \\tau_j $$"
   ]
  },
  {
   "cell_type": "markdown",
   "metadata": {},
   "source": [
    "$$ m \\_ degree = \\frac{log(K/S_t)}{\\sqrt{\\tau} \\times IV_{t, \\tau}^{atm}} $$"
   ]
  },
  {
   "cell_type": "markdown",
   "metadata": {},
   "source": [
    "$$ R_t = \\sum_{n=1}^{20} \\left( V_{t-n} \\prod_{\\tau=1}^{n-1} [1-V_{t-n+\\tau}] \\right) O_{t-n} $$"
   ]
  },
  {
   "cell_type": "markdown",
   "metadata": {},
   "source": [
    "$$ \\text{pfht} = 2 \\times \\sigma \\times \\Phi^{-1} \\left( \\frac{1 + pzeros}{2} \\right) $$"
   ]
  },
  {
   "cell_type": "markdown",
   "metadata": {},
   "source": [
    "$$ R_{i, d} = \\beta_{0} + \\beta_{i}^{MKT} MKT_{d} + \\beta_{i}^{BEAR}R_{AD Bear, d} + \\epsilon_{i, d} $$"
   ]
  },
  {
   "cell_type": "markdown",
   "metadata": {},
   "source": [
    "According to study [Option return predictability with machine learning and big data](https://academic.oup.com/rfs/article-abstract/36/9/3548/7056660), page 41, we will take into consideration (for now) the first 4 feature groups per importance. These are:\n",
    "\n",
    "- Ill=Illiquidity ;\n",
    "- C=Contract ;\n",
    "- Risk=Risk ;\n",
    "- Past=Past Prices ;\n",
    "\n",
    "The list of features is described below:\n",
    "\n",
    "- ailliq (Absolute illiquidity) -> Ill\n",
    "- amihud (Amihud illiquidity per bucket) -> Ill\n",
    "- baspread (Bid-ask spread) -> Ill\n",
    "- bucket_dvol (Option bucket dollar volume) -> Ill\n",
    "- bucket_vol (Option bucket volume) -> Ill\n",
    "- bucket_vol_share (Relative option bucket volume) -> Ill\n",
    "- C (Call indicator) -> C\n",
    "- atm_iv (At-the-money implied volatility (maturity-specific)) -> Risk\n",
    "- bear beta (Bear beta) -> Risk\n",
    "- beta (Beta) -> Risk\n",
    "- betasq (Beta squared) -> Risk\n",
    "- cfp (Cash-flow-to-price ratio) -> Risk\n",
    "- cfp_ia (Industry-adjusted cash-flow-to-price ratio) -> Risk\n",
    "- chmom (Change in 6-month momentum) -> Past\n",
    "\n",
    "- doi (Dollar open interest) -> Ill\n",
    "- dvol (Dollar trading volume) -> Ill\n",
    "- gammaps (Pastor and Stambaugh liquidity measure ) -> Ill\n",
    "\n",
    "- convind (Convertible debt indicator) -> Risk\n",
    "- defrisk (Default risk) -> Risk\n",
    "- delta (Delta) -> Risk\n",
    "- embedlev (Embedded Leverage) -> Risk\n",
    "- gamma Gamma -> Risk\n",
    "- hkurt Historic kurtosis -> Risk\n",
    "\n",
    "- hskew (Historic skewness) -> Risk\n",
    "- hvol (Historic Volatility) -> Risk\n",
    "- idiovol (Idiosyncratic return volatility) -> Risk\n",
    "- ill (Amihud Illiquidity) -> Ill\n",
    "- illiq (Illiquidity) -> Ill\n",
    "\n",
    "- indmom (Industry momentum) -> Past\n",
    "- iv (Implied volatility) -> Contract\n",
    "- iv rank (Implied volatility rank vs. last year) -> Past\n",
    "\n",
    "- ivarud30 (Option implied variance asymmetry) -> Risk\n",
    "- ivd (Implied volatility duration) -> Risk\n",
    "- ivrv (Implied volatility minus realized volatility) -> Risk\n",
    "- ivrv_ratio (Implied volatility minus realized volatility ratio) -> Risk\n",
    "- ivslope (Implied volatility) -> Risk\n",
    "- ivvol (Volatility of atm volatility) -> Risk\n",
    "- m_degree (Standardized strike) -> Risk\n",
    "- mid (Option mid price) -> C\n",
    "\n",
    "- mom12m (12-month momentum) -> Past\n",
    "- mom1m (1-month momentum) -> Past\n",
    "- mom36m (36-month momentum) -> Past\n",
    "- mom6m (6-month momentum) -> Past\n",
    "- moneyness (Moneyness) -> C\n",
    "- nopt (Number of options trading) -> Ill\n",
    "- ocgo (Disposition Effect) -> Past\n",
    "- oi (Open interest) -> Ill\n",
    "- optspread (Option bid-ask spread) -> Ill\n",
    "- P (Put-flag) -> C\n",
    "- pba (Proportional bid-ask spread) -> Ill\n",
    "\n",
    "- pfht (Modified illiquidity measure based on zero returns) -> Ill\n",
    "- pifht (An extended FHT measured based on zero returns) -> Ill\n",
    "- pilliq (Percentage illiquidity) -> Ill\n",
    "- piroll (Extended Roll’s measure) -> Ill\n",
    "- pricedelay (Price delay) -> Ill\n",
    "- pzeros (Illiquidity measure based on zero returns) -> Ill\n",
    "- retvol (Return volatility) -> Risk\n",
    "- rnk182 (182-day risk-neutral kurtosis) -> Risk\n",
    "- rnk273 (273-day risk-neutral kurtosis) -> Risk\n",
    "- rnk30 (30-day risk-neutral kurtosis) -> Risk\n",
    "- rnk365 (365-day risk-neutral kurtosis) -> Risk\n",
    "- rnk91 (91-day risk-neutral kurtosis) -> Risk\n",
    "- rns182 (182-day risk-neutral skewness) -> Risk\n",
    "- rns273 (273-day risk-neutral skewness) -> Risk\n",
    "- rns30 (30-day risk-neutral skewness) -> Risk\n",
    "- rns365 (365-day risk-neutral skewness) -> Risk\n",
    "\n",
    "- rns91 (91-day risk-neutral skewness) -> Risk\n",
    "- roll (Roll’s measure of illiquidity) -> Ill\n",
    "- rv (Realized variance) -> Risk\n",
    "- season1 (Seasonal return - 1 year historical) -> Past\n",
    "- season2 (Seasonal return - 2 year historical) -> Past\n",
    "- season3 (Seasonal return - 3 year historical) -> Past\n",
    "- season4 (Seasonal return - 4 year historical) -> Past\n",
    "- std_dolvol (Volatility of liquidity (dollar trading volume)) -> Ill\n",
    "- std_turn (Volatility of liquidity (share turnover)) -> Ill\n",
    "- stdamihud (Standard deviation of Amihud’s illiquidity measure) -> Ill\n",
    "- stdcf (Cash flow volatility) -> Risk\n",
    "\n",
    "- tb (Tax income to book income) -> Past\n",
    "- theta (Theta) -> Risk\n",
    "- tlm30 (Tail loss measure) -> Risk\n",
    "- toi (Total option open interest) -> Ill\n",
    "- ttm (Time-to-maturity) -> Contract\n",
    "- turn (Share turnover) -> Risk\n",
    "- turnover (Option turnover) -> Ill\n",
    "- vega (Vega) -> Risk\n",
    "- vol (Trading volume in options) -> Ill\n",
    "- volga (Volga) -> Risk\n",
    "- volunc (Volatility uncertainty) -> Risk\n",
    "- zerotrade (Zero trading days) -> Ill"
   ]
  },
  {
   "cell_type": "code",
   "execution_count": 151,
   "metadata": {},
   "outputs": [],
   "source": [
    "# dollar volume\n",
    "df_labeled[\"dvol\"] = df_labeled[\"delta_volume\"] * ((df_labeled[\"ask\"] + df_labeled[\"bid\"]) / 2)\n",
    "\n",
    "# aboslute illiquidity\n",
    "ask_price_diff = df_labeled.groupby([\"strike\", \"expire_date\"])[\"ask\"].diff().fillna(0)\n",
    "stock_price_diff = df_labeled.groupby([\"strike\", \"expire_date\"])[\"open\"].diff().fillna(0)\n",
    "df_labeled[\"ailliq\"] = abs(ask_price_diff - df_labeled[\"delta\"] * stock_price_diff) / df_labeled[\"dvol\"]\n",
    "\n",
    "# amihud illiquidity\n",
    "stock_return = stock_price_diff / df_labeled[\"open\"].shift(1).fillna(0)\n",
    "df_labeled[\"amihudilliq\"] = abs(stock_return) / df_labeled[\"dvol\"]\n",
    "\n",
    "# bid ask spread\n",
    "df_labeled[\"baspread\"] = df_labeled[\"ask\"] - df_labeled[\"bid\"]\n",
    "\n",
    "# relative bid ask spread\n",
    "midpoint = (df_labeled[\"bid\"] + df_labeled[\"ask\"]) / 2\n",
    "df_labeled[\"rel_baspread\"] = df_labeled[\"baspread\"] / midpoint\n",
    "\n",
    "# EXTRA FOR LATER USE\n",
    "# stock and option return (1 timestep)\n",
    "df_labeled['open_return'] = df_labeled['open'].pct_change().fillna(0)\n",
    "prev_ask = df_labeled['ask'].shift(1)\n",
    "numerator = df_labeled['bid'] - prev_ask\n",
    "denominator = prev_ask\n",
    "\n",
    "# Avoid division by zero explicitly\n",
    "df_labeled['option_return'] = np.where(\n",
    "    denominator != 0,\n",
    "    numerator / denominator,\n",
    "    0  # If denominator is zero, return 0\n",
    ")"
   ]
  },
  {
   "cell_type": "code",
   "execution_count": null,
   "metadata": {},
   "outputs": [],
   "source": [
    "# compute ailliq\n",
    "\n",
    "def compute_dollar_vol(option, vol_col=\"delta_volume\"):\n",
    "    volume = option[vol_col]\n",
    "    ask = option[\"ask\"]\n",
    "    bid = option[\"bid\"]\n",
    "    return volume * ((ask + bid) / 2)\n",
    "\n",
    "def compute_ailliq(option):\n",
    "    \"\"\"\n",
    "    'last' refers to last traded price of option\n",
    "    according to data source documentation. It\n",
    "    is used as the transaction price in this\n",
    "    calculation.\n",
    "    \"\"\"\n",
    "    pt = option[\"ask\"]\n",
    "    pt_1 = option[\"ask_t-1\"]\n",
    "    delta =  option[\"delta\"]\n",
    "    st = option[\"open_t0\"]\n",
    "    st_1 = option[\"open_t-1\"]\n",
    "    dollar_vol = compute_dollar_vol(option)\n",
    "    return abs((pt - pt_1) - delta * (st - st_1)) / dollar_vol"
   ]
  },
  {
   "cell_type": "code",
   "execution_count": null,
   "metadata": {},
   "outputs": [],
   "source": [
    "# compute amihud illiquidity\n",
    "\n",
    "def amihudilliq(option):\n",
    "    \"\"\"\n",
    "    amihud is thought for daily options\n",
    "    this is a custom adaptation for 15 mins\n",
    "    frequecy\n",
    "    \"\"\"\n",
    "    pt = option[\"open_t0\"]\n",
    "    pt_1 = option[\"open_t-1\"]\n",
    "    p_return = (pt - pt_1) / pt_1\n",
    "    dollar_vol = compute_dollar_vol(option)\n",
    "    return abs(p_return) / dollar_vol"
   ]
  },
  {
   "cell_type": "code",
   "execution_count": null,
   "metadata": {},
   "outputs": [],
   "source": [
    "# compute bid-ask spread\n",
    "# and also relative bid-ask spread\n",
    "# since it is not clear which definition\n",
    "# is used in the paper\n",
    "\n",
    "def compute_midpoint(option):\n",
    "    bid = option[\"bid\"]\n",
    "    ask = option[\"ask\"]\n",
    "    return (bid + ask) / 2\n",
    "\n",
    "def baspread(option):\n",
    "    bid = option[\"bid\"]\n",
    "    ask = option[\"ask\"]\n",
    "    return ask - bid\n",
    "\n",
    "def rel_baspread(option):\n",
    "    spread = baspread(option)\n",
    "    midpoint = compute_midpoint(option)\n",
    "    return spread / midpoint"
   ]
  },
  {
   "cell_type": "code",
   "execution_count": null,
   "metadata": {},
   "outputs": [],
   "source": [
    "# bucket_vol and bucket_dvol are\n",
    "# already computed for us on a contract\n",
    "# level. to compute bucket_vol_share we\n",
    "# need volume of all options from same\n",
    "# underlying. Leave it in stand by for now"
   ]
  },
  {
   "cell_type": "code",
   "execution_count": null,
   "metadata": {},
   "outputs": [],
   "source": [
    "# atm_iv is basically the iv value for a strike\n",
    "# equals to the stock price and specific time to \n",
    "# maturity (expiration date) which is not useful\n",
    "# for a specific option contract unless this option\n",
    "# contract is super close unless the option is very\n",
    "# close to atm. Perhaps a relative measure might\n",
    "# be more representative"
   ]
  },
  {
   "cell_type": "code",
   "execution_count": null,
   "metadata": {},
   "outputs": [],
   "source": [
    "@njit\n",
    "def compute_bear_beta_numba(contract_indices, mid_rets, under_rets, window, min_points):\n",
    "    n = len(contract_indices)\n",
    "    bear_beta = np.full(n, np.nan)\n",
    "\n",
    "    current = contract_indices[0]\n",
    "    start = 0\n",
    "\n",
    "    for i in range(1, n):\n",
    "        if contract_indices[i] != current or i == n - 1:\n",
    "            end = i if i != n - 1 else n\n",
    "            for t in range(start + window, end):\n",
    "                x_win = under_rets[start + t - window:t]\n",
    "                y_win = mid_rets[start + t - window:t]\n",
    "\n",
    "                valid = (x_win < 0) & (~np.isnan(y_win))\n",
    "                if np.sum(valid) >= min_points:\n",
    "                    x_valid = x_win[valid]\n",
    "                    y_valid = y_win[valid]\n",
    "                    x_c = x_valid - x_valid.mean()\n",
    "                    y_c = y_valid - y_valid.mean()\n",
    "                    var = np.dot(x_c, x_c)\n",
    "                    beta = np.dot(x_c, y_c) / var if var > 0 else np.nan\n",
    "                    bear_beta[start + t] = beta\n",
    "            current = contract_indices[i]\n",
    "            start = i\n",
    "\n",
    "    return bear_beta\n",
    "\n",
    "def apply_bear_beta(df, window=16, min_points=3):\n",
    "    df = df.sort_values(['contract_id', df.index.name]).copy()\n",
    "    df['mid_price'] = (df['bid'] + df['ask']) / 2\n",
    "    df['mid_ret'] = df.groupby('contract_id')['mid_price'].pct_change()\n",
    "    under_ret = df.groupby(df.index)['open'].first().pct_change()\n",
    "    df['under_ret'] = df.index.map(under_ret)\n",
    "\n",
    "    contract_codes = pd.factorize(df['contract_id'])[0].astype(np.int32)\n",
    "\n",
    "    bear_beta = compute_bear_beta_numba(\n",
    "        contract_codes,\n",
    "        df['mid_ret'].values.astype(np.float64),\n",
    "        df['under_ret'].values.astype(np.float64),\n",
    "        window,\n",
    "        min_points,\n",
    "    )\n",
    "\n",
    "    df['bear_beta'] = bear_beta\n",
    "    df = df.drop(columns=['mid_price', 'mid_ret', 'under_ret'], axis=1)\n",
    "    return df\n",
    "\n",
    "\n",
    "df_labeled['contract_id'] = df_labeled['strike'].astype(str) + '_' + df_labeled['expire_date'].astype(str)\n",
    "df_labeled = apply_bear_beta(df_labeled, window=16, min_points=3)\n",
    "df_labeled = df_labeled.drop(columns=[\"contract_id\"], axis=1)\n",
    "\n",
    "gc.collect()"
   ]
  },
  {
   "cell_type": "code",
   "execution_count": null,
   "metadata": {},
   "outputs": [
    {
     "data": {
      "text/plain": [
       "14995"
      ]
     },
     "execution_count": 76,
     "metadata": {},
     "output_type": "execute_result"
    }
   ],
   "source": [
    "# we assume beta is the analogy of bear beta for\n",
    "# positive returns.\n",
    "\n",
    "@njit\n",
    "def compute_beta_numba(contract_indices, mid_rets, under_rets, window, min_points):\n",
    "    n = len(contract_indices)\n",
    "    beta = np.full(n, np.nan)\n",
    "\n",
    "    current = contract_indices[0]\n",
    "    start = 0\n",
    "\n",
    "    for i in range(1, n):\n",
    "        if contract_indices[i] != current or i == n - 1:\n",
    "            end = i if i != n - 1 else n\n",
    "            for t in range(start + window, end):\n",
    "                x_win = under_rets[start + t - window:t]\n",
    "                y_win = mid_rets[start + t - window:t]\n",
    "\n",
    "                valid = (x_win > 0) & (~np.isnan(y_win))  # <-- upside moves only\n",
    "                if np.sum(valid) >= min_points:\n",
    "                    x_valid = x_win[valid]\n",
    "                    y_valid = y_win[valid]\n",
    "                    x_c = x_valid - x_valid.mean()\n",
    "                    y_c = y_valid - y_valid.mean()\n",
    "                    var = np.dot(x_c, x_c)\n",
    "                    beta_val = np.dot(x_c, y_c) / var if var > 0 else np.nan\n",
    "                    beta[start + t] = beta_val\n",
    "            current = contract_indices[i]\n",
    "            start = i\n",
    "\n",
    "    return beta\n",
    "\n",
    "def apply_beta(df, window=16, min_points=3):\n",
    "    df = df.sort_values(['contract_id', df.index.name]).copy()\n",
    "    df['mid_price'] = (df['bid'] + df['ask']) / 2\n",
    "    df['mid_ret'] = df.groupby('contract_id')['mid_price'].pct_change()\n",
    "\n",
    "    under_ret = df.groupby(df.index)['open'].first().pct_change()\n",
    "    df['under_ret'] = df.index.map(under_ret)\n",
    "\n",
    "    contract_codes = pd.factorize(df['contract_id'])[0].astype(np.int32)\n",
    "\n",
    "    beta_vals = compute_beta_numba(\n",
    "        contract_codes,\n",
    "        df['mid_ret'].values.astype(np.float64),\n",
    "        df['under_ret'].values.astype(np.float64),\n",
    "        window,\n",
    "        min_points,\n",
    "    )\n",
    "\n",
    "    df['beta'] = beta_vals\n",
    "    df = df.drop(columns=['mid_price', 'mid_ret', 'under_ret'], axis=1)\n",
    "    return df\n",
    "\n",
    "df_labeled['contract_id'] = df_labeled['strike'].astype(str) + '_' + df_labeled['expire_date'].astype(str)\n",
    "df_labeled = apply_beta(df_labeled, window=16, min_points=3)\n",
    "df_labeled = df_labeled.drop(columns=[\"contract_id\"], axis=1)\n",
    "gc.collect()"
   ]
  },
  {
   "cell_type": "code",
   "execution_count": null,
   "metadata": {},
   "outputs": [],
   "source": [
    "# we squared beta to be beta * beta\n",
    "# and we will not consider it for now\n",
    "# since high absolute correlation\n",
    "# between these two features"
   ]
  },
  {
   "cell_type": "code",
   "execution_count": null,
   "metadata": {},
   "outputs": [],
   "source": [
    "# instead of the change in 6 months momemtum we will\n",
    "# do normalized momentum between t and : t-1, t-2, t-3\n",
    "# t-4, t-5, t-10, t-15 (assuming window of 16) because\n",
    "# absolute value can change significantly over time\n",
    "\n",
    "def compute_normalized_momentum(df):\n",
    "    df = df.copy()\n",
    "    df = df.sort_index()\n",
    "\n",
    "    # Lags to compute\n",
    "    lags = [1, 2, 3, 4, 5, 10, 15]\n",
    "\n",
    "    # Group by unique contract (strike + expire_date)\n",
    "    grouped = df.groupby(['strike', 'expire_date'])\n",
    "\n",
    "    # Compute normalized momentum for each lag\n",
    "    for lag in lags:\n",
    "        col_name = f'norm_mom_{lag}'\n",
    "        df[col_name] = grouped['open'].transform(lambda x: (x - x.shift(lag)) / x.shift(lag))\n",
    "\n",
    "    return df\n",
    "\n",
    "df_labeled = compute_normalized_momentum(df_labeled)"
   ]
  },
  {
   "cell_type": "code",
   "execution_count": null,
   "metadata": {},
   "outputs": [],
   "source": [
    "# Dollar open interest is not implemented\n",
    "# since option open interest is not present\n",
    "# in the options dataset"
   ]
  },
  {
   "cell_type": "code",
   "execution_count": null,
   "metadata": {},
   "outputs": [],
   "source": [
    "# dollar trading volume is the dvol we\n",
    "# use for ailliq and amihud illiq\n",
    "\n",
    "# df_labeled[\"dvol\"] = 0.0\n",
    "# df_labeled[\"dvol\"].astype(float)\n",
    "# mask = (df_labeled[\"delta_volume\"] != 0.0)\n",
    "# df_labeled.loc[mask, \"dvol\"] = (\n",
    "#     (df_labeled.loc[mask, \"ask\"] + df_labeled.loc[mask, \"bid\"]) / 2 * df_labeled.loc[mask, \"delta_volume\"]\n",
    "# ).values"
   ]
  },
  {
   "cell_type": "code",
   "execution_count": null,
   "metadata": {},
   "outputs": [],
   "source": [
    "# pastor stambough liquidity value\n",
    "# is still poorly understood by me\n",
    "\n",
    "def compute_ps_liquidity(df: pd.DataFrame, window: int = 16) -> pd.DataFrame:\n",
    "    df = df.copy()\n",
    "\n",
    "    # Midquote\n",
    "    df[\"midquote\"] = (df[\"bid\"] + df[\"ask\"]) / 2\n",
    "\n",
    "    # Group contracts\n",
    "    df[\"contract_id\"] = df.groupby([\"strike\", \"expire_date\"], sort=False).ngroup()\n",
    "\n",
    "    # Prepare output array\n",
    "    psliq = np.full(len(df), np.nan)\n",
    "\n",
    "    # Work on NumPy arrays for speed\n",
    "    midquote = df[\"midquote\"].values\n",
    "    volume = df[\"volume\"].values\n",
    "    contract_ids = df[\"contract_id\"].values\n",
    "\n",
    "    # Loop over unique contracts\n",
    "    for cid in np.unique(contract_ids):\n",
    "        idx = np.where(contract_ids == cid)[0]\n",
    "\n",
    "        if len(idx) < window:\n",
    "            continue\n",
    "\n",
    "        mid = midquote[idx]\n",
    "        vol = volume[idx]\n",
    "\n",
    "        # Compute forward return\n",
    "        ret = np.full_like(mid, np.nan, dtype=np.float64)\n",
    "        \n",
    "        # 'ret[:-1] = (mid[1:] - mid[:-1]) / mid[:-1]' is\n",
    "        # substituted by the following 3 lines to avoid zero div\n",
    "        # but it might understate return calculations\n",
    "        ret[:-1] = 0.0  # initialize safely\n",
    "        safe = mid[:-1] != 0.0\n",
    "        ret[:-1][safe] = (mid[1:][safe] - mid[:-1][safe]) / mid[:-1][safe]\n",
    "\n",
    "        # Compute flow proxy\n",
    "        flow = np.full_like(mid, np.nan, dtype=np.float64)\n",
    "        flow[1:] = np.sign(ret[:-1]) * np.sqrt(np.maximum(vol[:-1], 0))\n",
    "\n",
    "        # Rolling regression\n",
    "        for i in range(window, len(idx)):\n",
    "            y = ret[i - window + 1:i + 1]\n",
    "            x = flow[i - window + 1:i + 1]\n",
    "\n",
    "            if np.any(np.isnan(y)) or np.any(np.isnan(x)):\n",
    "                continue\n",
    "\n",
    "            x_mat = np.column_stack((np.ones_like(x), x))\n",
    "            beta, *_ = np.linalg.lstsq(x_mat, y, rcond=None)\n",
    "            psliq[idx[i]] = beta[1]\n",
    "\n",
    "    df[\"psliq\"] = psliq\n",
    "    df.drop(columns=[\"contract_id\", \"midquote\"], inplace=True)\n",
    "    return df\n",
    "\n",
    "df_labeled = df_labeled.sort_index()\n",
    "df_labeled = compute_ps_liquidity(df_labeled)"
   ]
  },
  {
   "cell_type": "code",
   "execution_count": 115,
   "metadata": {},
   "outputs": [],
   "source": [
    "# need financial statements data to compute\n",
    "# Convertible debt indicator"
   ]
  },
  {
   "cell_type": "code",
   "execution_count": 116,
   "metadata": {},
   "outputs": [],
   "source": [
    "# need financial statements data to compute\n",
    "# default risk"
   ]
  },
  {
   "cell_type": "code",
   "execution_count": null,
   "metadata": {},
   "outputs": [],
   "source": [
    "# embedded leverage\n",
    "# ask price is used as the options price\n",
    "\n",
    "df_labeled[\"embedded_leverage\"] = abs(df_labeled[\"delta\"]) * df_labeled[\"open\"] / df_labeled[\"ask\"]"
   ]
  },
  {
   "cell_type": "code",
   "execution_count": 93,
   "metadata": {},
   "outputs": [],
   "source": [
    "# kurtosis\n",
    "# unclear definition is given in the paper\n",
    "# don't know whether it is computed for the\n",
    "# stock price or the option. I calculate it\n",
    "# for now with the stock price.\n",
    "# if division by zero I assign 0\n",
    "\n",
    "@njit\n",
    "def rolling_kurtosis_numba(arr, window):\n",
    "    n = len(arr)\n",
    "    result = np.empty(n)\n",
    "    result[:] = np.nan\n",
    "\n",
    "    for i in range(window - 1, n):\n",
    "        window_slice = arr[i - window + 1:i + 1]\n",
    "        mean = np.mean(window_slice)\n",
    "        m2 = np.mean((window_slice - mean) ** 2)\n",
    "        m4 = np.mean((window_slice - mean) ** 4)\n",
    "        if m2 != 0:\n",
    "            result[i] = m4 / (m2 ** 2)\n",
    "        else:\n",
    "            result[i] = 0\n",
    "    return result\n",
    "\n",
    "def fast_grouped_kurtosis(df, window=16):\n",
    "    results = []\n",
    "    for _, group in df.groupby(['strike', 'expire_date']):\n",
    "        arr = group['open'].to_numpy()\n",
    "        kurt_vals = rolling_kurtosis_numba(arr, window)\n",
    "        group = group.copy()\n",
    "        group['historic_kurtosis'] = kurt_vals\n",
    "        results.append(group)\n",
    "    return pd.concat(results)\n",
    "\n",
    "df_labeled = fast_grouped_kurtosis(df_labeled.copy())"
   ]
  },
  {
   "cell_type": "code",
   "execution_count": null,
   "metadata": {},
   "outputs": [],
   "source": [
    "@njit\n",
    "def rolling_skew_numba(arr, window):\n",
    "    n = len(arr)\n",
    "    result = np.empty(n)\n",
    "    result[:] = np.nan\n",
    "\n",
    "    for i in range(window - 1, n):\n",
    "        window_data = arr[i - window + 1:i + 1]\n",
    "        mean = np.mean(window_data)\n",
    "        std = np.std(window_data)\n",
    "        if std == 0:\n",
    "            result[i] = 0.0\n",
    "        else:\n",
    "            result[i] = np.mean(((window_data - mean) / std) ** 3)\n",
    "    return result\n",
    "\n",
    "\n",
    "def fast_grouped_skewness(df, window=16):\n",
    "    results = []\n",
    "\n",
    "    for (strike, expiry), group in df.groupby(['strike', 'expire_date']):\n",
    "        open_vals = group['open'].values.astype(np.float64)\n",
    "        skew_vals = rolling_skew_numba(open_vals, window)\n",
    "        result = group.copy()\n",
    "        result['historic_skewness'] = skew_vals\n",
    "        results.append(result)\n",
    "    return pd.concat(results)\n",
    "    \n",
    "df_labeled = fast_grouped_skewness(df_labeled.copy())"
   ]
  },
  {
   "cell_type": "code",
   "execution_count": 66,
   "metadata": {},
   "outputs": [
    {
     "name": "stderr",
     "output_type": "stream",
     "text": [
      "/var/folders/r9/_bgvbg7j4v164_s3bp2b3_wh0000gn/T/ipykernel_50047/3806753237.py:18: DeprecationWarning: DataFrameGroupBy.apply operated on the grouping columns. This behavior is deprecated, and in a future version of pandas the grouping columns will be excluded from the operation. Either pass `include_groups=False` to exclude the groupings or explicitly select the grouping columns after groupby to silence this warning.\n",
      "  result = df.groupby(['strike', 'expire_date'], group_keys=False).apply(compute_group_vol)\n"
     ]
    }
   ],
   "source": [
    "# return is computed as Pt / Pt-1\n",
    "# instead of (Pt - Pt-1) / Pt-1\n",
    "# since we are using log. Probably to \n",
    "# change depending on tests\n",
    "\n",
    "def compute_historic_volatility(df, window=16):\n",
    "    # Ensure datetime index is sorted\n",
    "    df = df.sort_index()\n",
    "    \n",
    "    # Group by option contract (strike, expire_date)\n",
    "    def compute_group_vol(group):\n",
    "        # Compute log returns of \"open\" price\n",
    "        log_returns = np.log(group['open'] / group['open'].shift(1))\n",
    "        # Rolling standard deviation over the window\n",
    "        group['historic_volatility'] = log_returns.rolling(window=window).std()\n",
    "        return group\n",
    "\n",
    "    result = df.groupby(['strike', 'expire_date'], group_keys=False).apply(compute_group_vol)\n",
    "    return result\n",
    "\n",
    "df_labeled = df_labeled.sort_index()\n",
    "df_labeled = compute_historic_volatility(df_labeled.copy())"
   ]
  },
  {
   "cell_type": "code",
   "execution_count": null,
   "metadata": {},
   "outputs": [],
   "source": [
    "# idiosyncratic volatility\n",
    "# nan values are substituted by zero\n",
    "\n",
    "@njit\n",
    "def rolling_idio_vol(y, x, window):\n",
    "    n = len(y)\n",
    "    result = np.full(n, np.nan)\n",
    "\n",
    "    for i in range(window - 1, n):\n",
    "        y_win = y[i - window + 1:i + 1]\n",
    "        x_win = x[i - window + 1:i + 1]\n",
    "\n",
    "        if np.any(np.isnan(y_win)) or np.any(np.isnan(x_win)):\n",
    "            continue\n",
    "\n",
    "        # Manually build design matrix with intercept (2D)\n",
    "        X = np.empty((window, 2))\n",
    "        X[:, 0] = 1.0           # intercept\n",
    "        X[:, 1] = x_win         # regressor\n",
    "\n",
    "        # OLS beta = (X'X)^-1 X'y\n",
    "        XtX = X.T @ X\n",
    "        Xty = X.T @ y_win\n",
    "        beta = np.linalg.solve(XtX, Xty)\n",
    "\n",
    "        residuals = y_win - X @ beta\n",
    "        result[i] = np.std(residuals)\n",
    "    \n",
    "    for i in range(n):\n",
    "        if np.isnan(result[i]):\n",
    "            result[i] = 0.0\n",
    "\n",
    "    return result\n",
    "\n",
    "def compute_idiosyncratic_vol(df, window=16):\n",
    "    df = df.sort_index()\n",
    "\n",
    "    out_frames = []\n",
    "\n",
    "    for _, group in df.groupby(['strike', 'expire_date']):\n",
    "        y = group['option_return'].values\n",
    "        x = group['open_return'].values\n",
    "        vol = rolling_idio_vol(y, x, window)\n",
    "\n",
    "        group = group.copy()\n",
    "        group['idiosyncratic_vol'] = vol\n",
    "        out_frames.append(group)\n",
    "\n",
    "    return pd.concat(out_frames)\n",
    "\n",
    "df_labeled = compute_idiosyncratic_vol(df_labeled.copy())"
   ]
  },
  {
   "cell_type": "code",
   "execution_count": null,
   "metadata": {},
   "outputs": [
    {
     "name": "stderr",
     "output_type": "stream",
     "text": [
      "/var/folders/r9/_bgvbg7j4v164_s3bp2b3_wh0000gn/T/ipykernel_52264/948016385.py:26: DeprecationWarning: DataFrameGroupBy.apply operated on the grouping columns. This behavior is deprecated, and in a future version of pandas the grouping columns will be excluded from the operation. Either pass `include_groups=False` to exclude the groupings or explicitly select the grouping columns after groupby to silence this warning.\n",
      "  df_labeled = df_labeled.groupby(['strike', 'expire_date'], group_keys=False).apply(compute_illiq)\n"
     ]
    }
   ],
   "source": [
    "# illiquidity (different from removing the abs\n",
    "# from absolute volatilty according to paper)\n",
    "\n",
    "def compute_illiq(group, window=16):\n",
    "    group = group.sort_index().copy()\n",
    "\n",
    "    # Safe log transform\n",
    "    group.loc[group['ask'] <= 0, 'ask'] = np.nan\n",
    "    group['log_ask'] = np.log(group['ask'])\n",
    "    group.loc[pd.isna(group['log_ask']), 'log_ask'] = 0\n",
    "\n",
    "    # Δp_t\n",
    "    group['delta_p'] = group['log_ask'].diff()\n",
    "\n",
    "    # Δp_{t-1}\n",
    "    group['delta_p_lag1'] = group['delta_p'].shift(1)\n",
    "\n",
    "    # Rolling covariance between delta_p_lag1 (t-1) and delta_p (t)\n",
    "    group['illiq'] = -group['delta_p'].rolling(window=window, min_periods=window)\\\n",
    "                                   .cov(group['delta_p_lag1'])\n",
    "    \n",
    "    group = group.drop(columns=[\"log_ask\", \"delta_p\", \"delta_p_lag1\"])\n",
    "\n",
    "    return group\n",
    "\n",
    "df_labeled = df_labeled.groupby(['strike', 'expire_date'], group_keys=False).apply(compute_illiq)\n",
    "\n",
    "# Align index and assign to original df\n",
    "# df_labeled['illiq'] = illiq_values['illiq']"
   ]
  },
  {
   "cell_type": "code",
   "execution_count": null,
   "metadata": {},
   "outputs": [],
   "source": [
    "# Implied volatility rank vs. last year\n",
    "# adapted for 16 samples (perhaps 16 is very\n",
    "# short).\n",
    "\n",
    "def rank_last_normalized(x):\n",
    "    return (np.argsort(np.argsort(x))[-1]) / 15  # NumPy-based rank of last item\n",
    "\n",
    "df_labeled['iv_rank_16'] = (\n",
    "    df_labeled\n",
    "    .sort_index()\n",
    "    .groupby(['strike', 'expire_date'])['iv']\n",
    "    .transform(lambda x: x.rolling(16).apply(rank_last_normalized, raw=True))\n",
    ")"
   ]
  },
  {
   "cell_type": "code",
   "execution_count": 48,
   "metadata": {},
   "outputs": [],
   "source": [
    "# ivarud30 is not defined as a standalone\n",
    "# feature for a single option. It integrates\n",
    "# accross call and put options. If features\n",
    "# from first implem aren't enough we can\n",
    "# come up with an analogy of ivarud30 for\n",
    "# single option contract"
   ]
  },
  {
   "cell_type": "code",
   "execution_count": null,
   "metadata": {},
   "outputs": [],
   "source": [
    "# ivd (implied volatility duration)\n",
    "# is measured with option contracts\n",
    "# with different expiration dates, not a\n",
    "# single contract. Dig deeper if first\n",
    "# implem is not enough"
   ]
  },
  {
   "cell_type": "code",
   "execution_count": 63,
   "metadata": {},
   "outputs": [
    {
     "name": "stderr",
     "output_type": "stream",
     "text": [
      "/var/folders/r9/_bgvbg7j4v164_s3bp2b3_wh0000gn/T/ipykernel_52264/3065028808.py:25: DeprecationWarning: DataFrameGroupBy.apply operated on the grouping columns. This behavior is deprecated, and in a future version of pandas the grouping columns will be excluded from the operation. Either pass `include_groups=False` to exclude the groupings or explicitly select the grouping columns after groupby to silence this warning.\n",
      "  df_labeled = df_labeled.groupby(['strike', 'expire_date'], group_keys=False).apply(compute_iv_minus_realized_vol)\n"
     ]
    }
   ],
   "source": [
    "#  implied volatility minus the relative volatility\n",
    "# over 16 samples. return is calculated as \n",
    "# log (ask at T / ask at T-1)\n",
    "# filling nan values with 0\n",
    "\n",
    "def compute_iv_minus_realized_vol(group):\n",
    "    group = group.sort_values('datetime')\n",
    "    \n",
    "    # Calculate log returns of the 'last' price\n",
    "\n",
    "    group['log_return'] = np.log(group['last'].where(group['ask'] > 0)).diff()\n",
    "    group['log_return'].fillna(0)\n",
    "    \n",
    "    # Realized volatility over a 16-sample window (using std dev of log returns)\n",
    "    group['realized_vol'] = group['log_return'].rolling(window=16).std()\n",
    "\n",
    "    # Implied minus realized\n",
    "    group['iv_minus_realized'] = group['realized_vol'] - group['iv']\n",
    "    \n",
    "    # drop tmp cols\n",
    "    group = group.drop(columns=[\"log_return\", \"realized_vol\"])\n",
    "    return group\n",
    "\n",
    "# Apply to each group\n",
    "df_labeled = df_labeled.groupby(['strike', 'expire_date'], group_keys=False).apply(compute_iv_minus_realized_vol)"
   ]
  },
  {
   "cell_type": "code",
   "execution_count": null,
   "metadata": {},
   "outputs": [
    {
     "name": "stderr",
     "output_type": "stream",
     "text": [
      "/var/folders/r9/_bgvbg7j4v164_s3bp2b3_wh0000gn/T/ipykernel_52264/2239966650.py:29: DeprecationWarning: DataFrameGroupBy.apply operated on the grouping columns. This behavior is deprecated, and in a future version of pandas the grouping columns will be excluded from the operation. Either pass `include_groups=False` to exclude the groupings or explicitly select the grouping columns after groupby to silence this warning.\n",
      "  df_labeled = df_labeled.groupby(['strike', 'expire_date'], group_keys=False).apply(compute_iv_minus_realized_vol_ratio)\n"
     ]
    }
   ],
   "source": [
    "#  implied volatility minus the relative volatility ratio\n",
    "# over 16 samples. return is calculated as \n",
    "# log (ask at T / ask at T-1)\n",
    "# filling nan values and zero-division with 0\n",
    "\n",
    "def compute_iv_minus_realized_vol_ratio(group, window):\n",
    "    group = group.sort_values('datetime')\n",
    "    \n",
    "    # Calculate log returns of the 'last' price\n",
    "\n",
    "    group['log_return'] = np.log(group['last'].where(group['ask'] > 0)).diff()\n",
    "    group['log_return'].fillna(0)\n",
    "    \n",
    "    # Realized volatility over a 16-sample window (using std dev of log returns)\n",
    "    group['realized_vol'] = group['log_return'].rolling(window=window).std()\n",
    "\n",
    "    # Implied minus realized\n",
    "    group['iv_minus_realized_ratio'] = np.where(\n",
    "        (group['realized_vol'] == 0),\n",
    "        0,\n",
    "        group['iv'] / group['realized_vol']\n",
    "    )\n",
    "    \n",
    "    # drop tmp cols\n",
    "    group = group.drop(columns=[\"log_return\", \"realized_vol\"])\n",
    "    return group\n",
    "\n",
    "# Apply to each group\n",
    "df_labeled = df_labeled.groupby(['strike', 'expire_date'], group_keys=False).apply(compute_iv_minus_realized_vol_ratio)"
   ]
  },
  {
   "cell_type": "code",
   "execution_count": null,
   "metadata": {},
   "outputs": [],
   "source": [
    "# Implied volatility slope (ivslope)\n",
    "# is computed cross-option\n",
    "# no analogy thought yet for single\n",
    "# option contract"
   ]
  },
  {
   "cell_type": "code",
   "execution_count": null,
   "metadata": {},
   "outputs": [],
   "source": [
    "#  Volatility of atm volatility\n",
    "# ignored since we need to compute atm\n",
    "# volatility and not the volatility of\n",
    "# each option contract"
   ]
  },
  {
   "cell_type": "code",
   "execution_count": null,
   "metadata": {},
   "outputs": [
    {
     "name": "stderr",
     "output_type": "stream",
     "text": [
      "/var/folders/r9/_bgvbg7j4v164_s3bp2b3_wh0000gn/T/ipykernel_52264/2684111358.py:18: DeprecationWarning: DataFrameGroupBy.apply operated on the grouping columns. This behavior is deprecated, and in a future version of pandas the grouping columns will be excluded from the operation. Either pass `include_groups=False` to exclude the groupings or explicitly select the grouping columns after groupby to silence this warning.\n",
      "  df_labeled['atm_iv'] = df_labeled.groupby([df_labeled.index, 'expire_date']).apply(get_atm_iv).reset_index(level=[0,1], drop=True)\n"
     ]
    }
   ],
   "source": [
    "# Assuming df is your DataFrame\n",
    "df_labeled = df_labeled.copy()\n",
    "\n",
    "# Convert datetime index and expire_date to datetime if not already\n",
    "df_labeled.index = pd.to_datetime(df_labeled.index)\n",
    "df_labeled['expire_datetime'] = pd.to_datetime(df_labeled['expire_date'].astype(str) + ' 16:00:00')\n",
    "\n",
    "# Step 1: Compute time to expiration (τ) in days\n",
    "df_labeled['tau'] = (df_labeled['expire_datetime'] - df_labeled.index).dt.total_seconds() / (24 * 3600)\n",
    "\n",
    "# Step 2: Group by datetime and expiration to find ATM IV\n",
    "def get_atm_iv(group):\n",
    "    # Find strike closest to the 'open' price\n",
    "    atm_option = group.iloc[(group['strike'] - group['open']).abs().argsort()[:1]]\n",
    "    atm_iv = atm_option['iv'].values[0]\n",
    "    return pd.Series([atm_iv] * len(group), index=group.index)\n",
    "\n",
    "df_labeled['atm_iv'] = df_labeled.groupby([df_labeled.index, 'expire_date']).apply(get_atm_iv).reset_index(level=[0,1], drop=True)\n",
    "\n",
    "# Step 3: Compute standardized moneyness\n",
    "df_labeled['m_degree'] = np.log(df_labeled['strike'] / df_labeled['open']) / (np.sqrt(df_labeled['tau']) * df_labeled['atm_iv'])\n",
    "\n",
    "df_labeled = df_labeled.drop(columns=[\"expire_datetime\", \"tau\", \"atm_iv\"])"
   ]
  },
  {
   "cell_type": "code",
   "execution_count": 80,
   "metadata": {},
   "outputs": [],
   "source": [
    "# mid (option mid price)\n",
    "\n",
    "df_labeled[\"midpoint\"] = (df_labeled[\"bid\"] + df_labeled[\"ask\"]) / 2"
   ]
  },
  {
   "cell_type": "code",
   "execution_count": null,
   "metadata": {},
   "outputs": [],
   "source": [
    "# momentum measures mom12m, mom1m, mom36m, mom6m\n",
    "# are subtituted by the momentum elements computed with \n",
    "# compute_normalized_momentum. normalized since raw values\n",
    "# can significantly vary"
   ]
  },
  {
   "cell_type": "code",
   "execution_count": 82,
   "metadata": {},
   "outputs": [],
   "source": [
    "# moneyness\n",
    "\n",
    "df_labeled[\"moneyness\"] = df_labeled[\"strike\"] / df_labeled[\"open\"]"
   ]
  },
  {
   "cell_type": "code",
   "execution_count": null,
   "metadata": {},
   "outputs": [],
   "source": [
    "# nopt (number of options traded)\n",
    "# is computed over a given timeframe\n",
    "# we already have the volume"
   ]
  },
  {
   "cell_type": "code",
   "execution_count": null,
   "metadata": {},
   "outputs": [],
   "source": [
    "# Disposition effect (ocgo) cannot be computed\n",
    "# because of absense of open interest data"
   ]
  },
  {
   "cell_type": "code",
   "execution_count": 84,
   "metadata": {},
   "outputs": [],
   "source": [
    "# optspread\n",
    "\n",
    "df_labeled[\"optspread\"] = 2 * (df_labeled[\"bid\"] - df_labeled[\"ask\"]) / (df_labeled[\"bid\"] + df_labeled[\"ask\"])"
   ]
  },
  {
   "cell_type": "code",
   "execution_count": null,
   "metadata": {},
   "outputs": [],
   "source": [
    "# pba (proportional bid-ask spread)\n",
    "# conceptually for a group of options.\n",
    "# for a single option it seems like\n",
    "# pba = - optspread "
   ]
  },
  {
   "cell_type": "code",
   "execution_count": null,
   "metadata": {},
   "outputs": [
    {
     "name": "stderr",
     "output_type": "stream",
     "text": [
      "/var/folders/r9/_bgvbg7j4v164_s3bp2b3_wh0000gn/T/ipykernel_52264/1489003514.py:8: FutureWarning: The default fill_method='ffill' in SeriesGroupBy.pct_change is deprecated and will be removed in a future version. Either fill in any non-leading NA values prior to calling pct_change or specify 'fill_method=None' to not fill NA values.\n",
      "  df['return'] = df.groupby(['strike', 'expire_date'])['ask'].pct_change()\n"
     ]
    }
   ],
   "source": [
    "# Modified illiquidity measure based on zero returns (pfht)\n",
    "# return is computed with ask column\n",
    "\n",
    "def compute_pfht(df, window=16):\n",
    "    df = df.sort_index()\n",
    "\n",
    "    # Calculate returns per contract\n",
    "    df['return'] = df.groupby(['strike', 'expire_date'])['ask'].pct_change()\n",
    "\n",
    "    results = []\n",
    "\n",
    "    # Process each contract separately for efficiency\n",
    "    for _, group in df.groupby(['strike', 'expire_date']):\n",
    "        group = group.copy()\n",
    "        group['is_zero'] = (group['return'] == 0).astype(int)\n",
    "\n",
    "        # Rolling zero return ratio\n",
    "        pzeros = group['pzeros'].rolling(window=window, min_periods=window).mean()\n",
    "\n",
    "        # Rolling standard deviation\n",
    "        sigma = group['return'].rolling(window=window, min_periods=window).std()\n",
    "\n",
    "        # Vectorized pfht computation\n",
    "        quantile = norm.ppf((1 + pzeros) / 2)\n",
    "        pfht = 2 * sigma * quantile\n",
    "\n",
    "        group['pfht'] = pfht\n",
    "        results.append(group)\n",
    "\n",
    "    # Combine all processed groups\n",
    "    df_result = pd.concat(results).sort_index()\n",
    "\n",
    "    df_result.drop(columns=[\"is_zero\"])\n",
    "    return df_result\n",
    "\n",
    "df_labeled = compute_pfht(df_labeled.copy())"
   ]
  },
  {
   "cell_type": "code",
   "execution_count": null,
   "metadata": {},
   "outputs": [],
   "source": [
    "# An extended FHT measure based on zero returns (pifht)\n",
    "# Q will be measured over 16 samples. pifht is zero\n",
    "# where Q is zero\n",
    "\n",
    "def compute_pifht(df, window=16):\n",
    "    df = df.sort_index()\n",
    "\n",
    "    # Calculate returns per contract\n",
    "    df['return'] = df.groupby(['strike', 'expire_date'])['ask'].pct_change()\n",
    "\n",
    "    results = []\n",
    "\n",
    "    # Process each contract separately for efficiency\n",
    "    for _, group in df.groupby(['strike', 'expire_date']):\n",
    "        group = group.copy()\n",
    "        group['is_zero'] = (group['return'] == 0).astype(int)\n",
    "\n",
    "        # Rolling zero return ratio\n",
    "        pzeros = group['is_zero'].rolling(window=window, min_periods=window).mean()\n",
    "\n",
    "        # Rolling standard deviation\n",
    "        sigma = group['return'].rolling(window=window, min_periods=window).std()\n",
    "\n",
    "        # Vectorized pfht computation\n",
    "        quantile = norm.ppf((1 + pzeros) / 2)\n",
    "        pfht = 2 * sigma * quantile\n",
    "\n",
    "        # avg dvol\n",
    "        q_bar = group['dvol'].rolling(window=window, min_periods=window).mean()\n",
    "        \n",
    "        group['pifht'] = np.where((q_bar == 0) & (~pd.isna(pfht)), 0, pfht / q_bar)\n",
    "\n",
    "        results.append(group)\n",
    "\n",
    "    # Combine all processed groups\n",
    "    df_result = pd.concat(results).sort_index()\n",
    "\n",
    "    df_result.drop(columns=[\"return\", \"is_zero\"])\n",
    "    return df_result\n",
    "\n",
    "df_labeled = compute_pifht(df_labeled.copy())"
   ]
  },
  {
   "cell_type": "code",
   "execution_count": 113,
   "metadata": {},
   "outputs": [],
   "source": [
    "# Percentage illiquidity (pilliq)\n",
    "# ask_price_diff and stock_price_diff\n",
    "# were computed for ailliq\n",
    "# ask price is used a option price\n",
    "\n",
    "df_labeled[\"pilliq\"] = np.where(\n",
    "    (df_labeled[\"dvol\"] * df_labeled[\"ask\"]) == 0,\n",
    "    0,\n",
    "    abs(ask_price_diff - df_labeled[\"delta\"] * stock_price_diff) / (df_labeled[\"dvol\"] * df_labeled[\"ask\"])\n",
    ")"
   ]
  },
  {
   "cell_type": "code",
   "execution_count": null,
   "metadata": {},
   "outputs": [],
   "source": [
    "# definition seems not be exactly the\n",
    "# same but I intuit is a continuation of illiq\n",
    "\n",
    "def compute_piroll(group, window=16):\n",
    "\n",
    "    group = group.sort_index().copy()\n",
    "\n",
    "    # Safe log transform\n",
    "    group.loc[group['ask'] <= 0, 'ask'] = np.nan\n",
    "    group['log_ask'] = np.log(group['ask'])\n",
    "    group.loc[pd.isna(group['log_ask']), 'log_ask'] = 0\n",
    "\n",
    "    # Δp_t\n",
    "    group['delta_p'] = group['log_ask'].diff()\n",
    "\n",
    "    # Δp_{t-1}\n",
    "    group['delta_p_lag1'] = group['delta_p'].shift(1)\n",
    "\n",
    "    # Rolling covariance between delta_p_lag1 (t-1) and delta_p (t)\n",
    "    group['illiq'] = -group['delta_p'].rolling(window=window, min_periods=window).cov(group['delta_p_lag1'])\n",
    "\n",
    "    group[\"roll\"] = 0.0\n",
    "    # group[\"roll\"] = group[\"roll\"].astype(float)\n",
    "    mask = group[\"illiq\"] >= 0\n",
    "    group.loc[mask, \"roll\"] = 2 * np.sqrt(group.loc[mask, \"illiq\"])\n",
    "\n",
    "    # Q bar\n",
    "    q_bar = group['dvol'].rolling(window=window, min_periods=window).mean()\n",
    "\n",
    "    group[\"piroll\"] = np.where(q_bar == 0, 0, group[\"roll\"] / q_bar)\n",
    "\n",
    "    group = group.drop(columns=['log_ask', 'delta_p', 'delta_p_lag1', 'illiq', 'roll'])\n",
    "\n",
    "    return group\n",
    "\n",
    "df_labeled = df_labeled.groupby(['strike', 'expire_date'], group_keys=False).apply(compute_piroll)"
   ]
  },
  {
   "cell_type": "code",
   "execution_count": null,
   "metadata": {},
   "outputs": [],
   "source": [
    "#  Price delay not computed due to \n",
    "# lack of clear definition"
   ]
  },
  {
   "cell_type": "code",
   "execution_count": null,
   "metadata": {},
   "outputs": [],
   "source": [
    "# pzeros is computed in compute_pfht"
   ]
  },
  {
   "cell_type": "code",
   "execution_count": null,
   "metadata": {},
   "outputs": [
    {
     "name": "stderr",
     "output_type": "stream",
     "text": [
      "/var/folders/r9/_bgvbg7j4v164_s3bp2b3_wh0000gn/T/ipykernel_52264/2389982381.py:23: DeprecationWarning: DataFrameGroupBy.apply operated on the grouping columns. This behavior is deprecated, and in a future version of pandas the grouping columns will be excluded from the operation. Either pass `include_groups=False` to exclude the groupings or explicitly select the grouping columns after groupby to silence this warning.\n",
      "  df_labeled = df_labeled.groupby(['strike', 'expire_date'], group_keys=False).apply(compute_retvol)\n"
     ]
    }
   ],
   "source": [
    "# retvol (return volatility) is defined as\n",
    "# the std of daily returns from month t-1.\n",
    "# we will do for the last 16 samples\n",
    "\n",
    "def compute_retvol(group, window=16):\n",
    "\n",
    "    group = group.sort_index().copy()\n",
    "\n",
    "    # Safe log transform\n",
    "    group.loc[group['ask'] <= 0, 'ask'] = np.nan\n",
    "    group['log_ask'] = np.log(group['ask'])\n",
    "    group.loc[pd.isna(group['log_ask']), 'log_ask'] = 0\n",
    "\n",
    "    # Δp_t\n",
    "    group['delta_p'] = group['log_ask'].diff()\n",
    "\n",
    "    group['retvol'] = group['delta_p'].rolling(window=window, min_periods=window).std()\n",
    "    \n",
    "    group = group.drop(columns=['log_ask', 'delta_p'])\n",
    "\n",
    "    return group\n",
    "\n",
    "df_labeled = df_labeled.groupby(['strike', 'expire_date'], group_keys=False).apply(compute_retvol)"
   ]
  },
  {
   "cell_type": "code",
   "execution_count": null,
   "metadata": {},
   "outputs": [],
   "source": [
    "# we are going to skip all the \n",
    "# X-day risk-neutral kurtosis and\n",
    "# X-day risk-neutral skewness to\n",
    "# move forward. We have, though,\n",
    "# some features of kurtosis and skewness"
   ]
  },
  {
   "cell_type": "code",
   "execution_count": null,
   "metadata": {},
   "outputs": [],
   "source": [
    "# it seems to me that realized variance (rv)\n",
    "# is conceptually very similar to return\n",
    "# volatility. We will skip rv for now"
   ]
  },
  {
   "cell_type": "code",
   "execution_count": 144,
   "metadata": {},
   "outputs": [
    {
     "name": "stderr",
     "output_type": "stream",
     "text": [
      "/var/folders/r9/_bgvbg7j4v164_s3bp2b3_wh0000gn/T/ipykernel_52264/4158890239.py:18: DeprecationWarning: DataFrameGroupBy.apply operated on the grouping columns. This behavior is deprecated, and in a future version of pandas the grouping columns will be excluded from the operation. Either pass `include_groups=False` to exclude the groupings or explicitly select the grouping columns after groupby to silence this warning.\n",
      "  df_labeled = df_labeled.groupby(['strike', 'expire_date'], group_keys=False).apply(compute_std_dolvol)\n"
     ]
    }
   ],
   "source": [
    "# std_dolvol - Volatility of liquidity (dollar trading volume)\n",
    "# is the std of the natural log of trading volume times \n",
    "# price per share from the last 16 samples (month t-2 in\n",
    "# original definition).\n",
    "\n",
    "def compute_std_dolvol(group, window=16):\n",
    "\n",
    "    group = group.sort_index().copy()\n",
    "\n",
    "    group[\"dolvol\"] = group[\"underlying_volume\"] * group[\"open\"]\n",
    "\n",
    "    group[\"std_dolvol\"] = group[\"dolvol\"].rolling(window=window, min_periods=window).std()\n",
    "\n",
    "    group = group.drop(columns=['dolvol'])\n",
    "\n",
    "    return group\n",
    "\n",
    "df_labeled = df_labeled.groupby(['strike', 'expire_date'], group_keys=False).apply(compute_std_dolvol)"
   ]
  },
  {
   "cell_type": "code",
   "execution_count": null,
   "metadata": {},
   "outputs": [],
   "source": [
    "# number of shares outstanding is needed for the calculation \n",
    "# of std_turn - Volatility of liquidity (share turnover)"
   ]
  },
  {
   "cell_type": "code",
   "execution_count": 153,
   "metadata": {},
   "outputs": [
    {
     "data": {
      "text/plain": [
       "Index(['strike', 'iv', 'expire_date', 'last', 'bid', 'ask', 'volume', 'size',\n",
       "       'delta', 'gamma', 'vega', 'theta', 'rho', 'open', 'underlying_volume',\n",
       "       'label', 'percent_increase', 'hours_to_max', 'std_dolvol',\n",
       "       'delta_volume', 'dvol', 'ailliq', 'amihudilliq', 'baspread',\n",
       "       'rel_baspread', 'open_return', 'option_return'],\n",
       "      dtype='object')"
      ]
     },
     "execution_count": 153,
     "metadata": {},
     "output_type": "execute_result"
    }
   ],
   "source": [
    "df_labeled.columns"
   ]
  },
  {
   "cell_type": "code",
   "execution_count": 156,
   "metadata": {},
   "outputs": [
    {
     "name": "stderr",
     "output_type": "stream",
     "text": [
      "/var/folders/r9/_bgvbg7j4v164_s3bp2b3_wh0000gn/T/ipykernel_52264/3062556524.py:11: DeprecationWarning: DataFrameGroupBy.apply operated on the grouping columns. This behavior is deprecated, and in a future version of pandas the grouping columns will be excluded from the operation. Either pass `include_groups=False` to exclude the groupings or explicitly select the grouping columns after groupby to silence this warning.\n",
      "  df_labeled = df_labeled.groupby([\"strike\", \"expire_date\"], group_keys=False).apply(compute_std_amihud)\n"
     ]
    }
   ],
   "source": [
    "# stdamihud (std of Amihud’s illiquidity measure)\n",
    "\n",
    "def compute_std_amihud(group, window=16):\n",
    "\n",
    "    group = group.sort_index().copy()\n",
    "\n",
    "    group[\"std_amihud\"] = group[\"amihudilliq\"].rolling(window=window, min_periods=window).std()\n",
    "\n",
    "    return group\n",
    "\n",
    "df_labeled = df_labeled.groupby([\"strike\", \"expire_date\"], group_keys=False).apply(compute_std_amihud)"
   ]
  },
  {
   "cell_type": "code",
   "execution_count": null,
   "metadata": {},
   "outputs": [],
   "source": [
    "#  stdcf (Cash flow volatility) needs\n",
    "# cash flow to be computed"
   ]
  },
  {
   "cell_type": "code",
   "execution_count": null,
   "metadata": {},
   "outputs": [],
   "source": [
    "# tb (Tax income to book income)\n",
    "# needs financial stmts info to be computed"
   ]
  },
  {
   "cell_type": "code",
   "execution_count": null,
   "metadata": {},
   "outputs": [],
   "source": [
    "#  theta (Theta) is the one we already \n",
    "# have in our dataset"
   ]
  },
  {
   "cell_type": "code",
   "execution_count": null,
   "metadata": {},
   "outputs": [],
   "source": [
    "# for the calculation of the tlm30 (Tail loss measure)\n",
    "# we need the full smile for a single expiration date\n",
    "# and this gives a value considering all the options\n",
    "# having a single exp date, not a value per option contract"
   ]
  },
  {
   "cell_type": "code",
   "execution_count": null,
   "metadata": {},
   "outputs": [],
   "source": [
    "# toi (Total option open interest) is the open interest\n",
    "# accross all options an underlying. We do not \n",
    "# have open interest and it is not a measure per\n",
    "# option contract"
   ]
  },
  {
   "cell_type": "code",
   "execution_count": 166,
   "metadata": {},
   "outputs": [
    {
     "data": {
      "text/plain": [
       "datetime\n",
       "2023-01-03 09:30:00   2024-12-20\n",
       "2023-01-03 09:30:00   2024-12-20\n",
       "2023-01-03 09:30:00   2024-12-20\n",
       "2023-01-03 09:30:00   2023-02-17\n",
       "2023-01-03 09:30:00   2023-03-17\n",
       "                         ...    \n",
       "2023-01-31 15:45:00   2023-03-17\n",
       "2023-01-31 15:45:00   2023-06-16\n",
       "2023-01-31 15:45:00   2023-12-15\n",
       "2023-01-31 15:45:00   2024-01-19\n",
       "2023-01-31 15:45:00   2024-12-20\n",
       "Name: expire_date, Length: 2051946, dtype: datetime64[ns]"
      ]
     },
     "execution_count": 166,
     "metadata": {},
     "output_type": "execute_result"
    }
   ],
   "source": [
    "pd.to_datetime(df_labeled[\"expire_date\"])"
   ]
  },
  {
   "cell_type": "code",
   "execution_count": 178,
   "metadata": {},
   "outputs": [],
   "source": [
    "# ttm (Time-to-maturity) in hours.\n",
    "# 16 in pd.Timedelta(hours=16) refers to 4pm\n",
    "\n",
    "df_labeled[\"time_to_expiry\"] = (\n",
    "    (pd.to_datetime(df_labeled[\"expire_date\"]) + pd.Timedelta(hours=16)) - df_labeled.index\n",
    ").dt.total_seconds() / 3600"
   ]
  },
  {
   "cell_type": "code",
   "execution_count": null,
   "metadata": {},
   "outputs": [],
   "source": [
    "# need shares outs for the calculation of \n",
    "# turn (Share turnover)"
   ]
  },
  {
   "cell_type": "code",
   "execution_count": null,
   "metadata": {},
   "outputs": [],
   "source": [
    "# need open interest for the calculation of\n",
    "# turnover (Option turnover)"
   ]
  },
  {
   "cell_type": "code",
   "execution_count": null,
   "metadata": {},
   "outputs": [],
   "source": [
    "# we already have vega (Vega)"
   ]
  },
  {
   "cell_type": "code",
   "execution_count": null,
   "metadata": {},
   "outputs": [],
   "source": [
    "# We already have vol (Trading volume in options)"
   ]
  },
  {
   "cell_type": "code",
   "execution_count": 182,
   "metadata": {},
   "outputs": [
    {
     "name": "stderr",
     "output_type": "stream",
     "text": [
      "/var/folders/r9/_bgvbg7j4v164_s3bp2b3_wh0000gn/T/ipykernel_52264/872430484.py:17: DeprecationWarning: DataFrameGroupBy.apply operated on the grouping columns. This behavior is deprecated, and in a future version of pandas the grouping columns will be excluded from the operation. Either pass `include_groups=False` to exclude the groupings or explicitly select the grouping columns after groupby to silence this warning.\n",
      "  df_labeled = df_labeled.groupby([\"strike\", \"expire_date\"], group_keys=False).apply(compute_volga)\n"
     ]
    }
   ],
   "source": [
    "# volga is defined as the sensitivity of vega with \n",
    "# respect to changes in the implied volatility.\n",
    "# this is like an integral\n",
    "\n",
    "def compute_volga(group):\n",
    "\n",
    "    group[\"vega_shift\"] = group[\"vega\"].shift(1)\n",
    "    group[\"iv_shift\"] = group[\"iv\"].shift(1)\n",
    "    group[\"delta_vega\"] = group[\"vega\"] - group[\"vega_shift\"]\n",
    "    group[\"delta_iv\"] = group[\"iv\"] - group[\"iv_shift\"]\n",
    "    group[\"volga\"] = group[\"delta_vega\"] / group[\"delta_iv\"]\n",
    "    group[\"scaled_volga\"] = group[\"volga\"] / group[\"open\"]\n",
    "    \n",
    "    group = group.drop(columns=[\"vega_shift\", \"iv_shift\", \"delta_vega\", \"delta_iv\", \"volga\"])\n",
    "    return group\n",
    "\n",
    "df_labeled = df_labeled.groupby([\"strike\", \"expire_date\"], group_keys=False).apply(compute_volga)"
   ]
  },
  {
   "cell_type": "code",
   "execution_count": null,
   "metadata": {},
   "outputs": [],
   "source": [
    "# volunc (Volatility uncertainty)\n",
    "# is computed across multiple options with a \n",
    "# specific time to maturity. Not per option\n",
    "# contract"
   ]
  },
  {
   "cell_type": "code",
   "execution_count": 189,
   "metadata": {},
   "outputs": [
    {
     "name": "stderr",
     "output_type": "stream",
     "text": [
      "/var/folders/r9/_bgvbg7j4v164_s3bp2b3_wh0000gn/T/ipykernel_52264/1721722200.py:11: DeprecationWarning: DataFrameGroupBy.apply operated on the grouping columns. This behavior is deprecated, and in a future version of pandas the grouping columns will be excluded from the operation. Either pass `include_groups=False` to exclude the groupings or explicitly select the grouping columns after groupby to silence this warning.\n",
      "  df_labeled = df_labeled.groupby([\"strike\", \"expire_date\"], group_keys=False).apply(compute_zerotrade)\n"
     ]
    }
   ],
   "source": [
    "# zerotrade is the Turnover weighted number of zero \n",
    "# trading days for most recent 1 month. We need shares \n",
    "# outs to compute turnover. We will substitute the feature \n",
    "# by number of 0 volume (zero trades) within the last 16 samples\n",
    "\n",
    "def compute_zerotrade(group, window=16):\n",
    "\n",
    "    group[\"zerotrade\"] = (group[\"volume\"] == 0).rolling(window=window, min_periods=window).sum()\n",
    "    return group\n",
    "\n",
    "df_labeled = df_labeled.groupby([\"strike\", \"expire_date\"], group_keys=False).apply(compute_zerotrade)"
   ]
  },
  {
   "cell_type": "code",
   "execution_count": 190,
   "metadata": {},
   "outputs": [
    {
     "data": {
      "text/html": [
       "<div>\n",
       "<style scoped>\n",
       "    .dataframe tbody tr th:only-of-type {\n",
       "        vertical-align: middle;\n",
       "    }\n",
       "\n",
       "    .dataframe tbody tr th {\n",
       "        vertical-align: top;\n",
       "    }\n",
       "\n",
       "    .dataframe thead th {\n",
       "        text-align: right;\n",
       "    }\n",
       "</style>\n",
       "<table border=\"1\" class=\"dataframe\">\n",
       "  <thead>\n",
       "    <tr style=\"text-align: right;\">\n",
       "      <th></th>\n",
       "      <th>strike</th>\n",
       "      <th>iv</th>\n",
       "      <th>expire_date</th>\n",
       "      <th>last</th>\n",
       "      <th>bid</th>\n",
       "      <th>ask</th>\n",
       "      <th>volume</th>\n",
       "      <th>size</th>\n",
       "      <th>delta</th>\n",
       "      <th>gamma</th>\n",
       "      <th>...</th>\n",
       "      <th>ailliq</th>\n",
       "      <th>amihudilliq</th>\n",
       "      <th>baspread</th>\n",
       "      <th>rel_baspread</th>\n",
       "      <th>open_return</th>\n",
       "      <th>option_return</th>\n",
       "      <th>std_amihud</th>\n",
       "      <th>time_to_expiry</th>\n",
       "      <th>scaled_volga</th>\n",
       "      <th>zerotrade</th>\n",
       "    </tr>\n",
       "    <tr>\n",
       "      <th>datetime</th>\n",
       "      <th></th>\n",
       "      <th></th>\n",
       "      <th></th>\n",
       "      <th></th>\n",
       "      <th></th>\n",
       "      <th></th>\n",
       "      <th></th>\n",
       "      <th></th>\n",
       "      <th></th>\n",
       "      <th></th>\n",
       "      <th></th>\n",
       "      <th></th>\n",
       "      <th></th>\n",
       "      <th></th>\n",
       "      <th></th>\n",
       "      <th></th>\n",
       "      <th></th>\n",
       "      <th></th>\n",
       "      <th></th>\n",
       "      <th></th>\n",
       "      <th></th>\n",
       "    </tr>\n",
       "  </thead>\n",
       "  <tbody>\n",
       "    <tr>\n",
       "      <th>2023-01-03 09:30:00</th>\n",
       "      <td>120.0</td>\n",
       "      <td>0.47386</td>\n",
       "      <td>2024-12-20</td>\n",
       "      <td>261.90</td>\n",
       "      <td>261.80</td>\n",
       "      <td>271.80</td>\n",
       "      <td>0.0</td>\n",
       "      <td>20 x 10</td>\n",
       "      <td>0.96802</td>\n",
       "      <td>0.00026</td>\n",
       "      <td>...</td>\n",
       "      <td>NaN</td>\n",
       "      <td>NaN</td>\n",
       "      <td>10.00</td>\n",
       "      <td>0.037481</td>\n",
       "      <td>0.0</td>\n",
       "      <td>NaN</td>\n",
       "      <td>NaN</td>\n",
       "      <td>17214.5</td>\n",
       "      <td>NaN</td>\n",
       "      <td>NaN</td>\n",
       "    </tr>\n",
       "    <tr>\n",
       "      <th>2023-01-03 09:30:00</th>\n",
       "      <td>130.0</td>\n",
       "      <td>0.42520</td>\n",
       "      <td>2024-12-20</td>\n",
       "      <td>240.32</td>\n",
       "      <td>254.50</td>\n",
       "      <td>259.50</td>\n",
       "      <td>0.0</td>\n",
       "      <td>1 x 1</td>\n",
       "      <td>0.96702</td>\n",
       "      <td>0.00020</td>\n",
       "      <td>...</td>\n",
       "      <td>NaN</td>\n",
       "      <td>NaN</td>\n",
       "      <td>5.00</td>\n",
       "      <td>0.019455</td>\n",
       "      <td>0.0</td>\n",
       "      <td>-0.063650</td>\n",
       "      <td>NaN</td>\n",
       "      <td>17214.5</td>\n",
       "      <td>NaN</td>\n",
       "      <td>NaN</td>\n",
       "    </tr>\n",
       "    <tr>\n",
       "      <th>2023-01-03 09:30:00</th>\n",
       "      <td>140.0</td>\n",
       "      <td>0.44175</td>\n",
       "      <td>2024-12-20</td>\n",
       "      <td>0.00</td>\n",
       "      <td>243.71</td>\n",
       "      <td>253.71</td>\n",
       "      <td>0.0</td>\n",
       "      <td>20 x 20</td>\n",
       "      <td>0.95863</td>\n",
       "      <td>0.00024</td>\n",
       "      <td>...</td>\n",
       "      <td>NaN</td>\n",
       "      <td>NaN</td>\n",
       "      <td>10.00</td>\n",
       "      <td>0.040207</td>\n",
       "      <td>0.0</td>\n",
       "      <td>-0.060848</td>\n",
       "      <td>NaN</td>\n",
       "      <td>17214.5</td>\n",
       "      <td>NaN</td>\n",
       "      <td>NaN</td>\n",
       "    </tr>\n",
       "    <tr>\n",
       "      <th>2023-01-03 09:30:00</th>\n",
       "      <td>150.0</td>\n",
       "      <td>1.15171</td>\n",
       "      <td>2023-02-17</td>\n",
       "      <td>230.63</td>\n",
       "      <td>234.65</td>\n",
       "      <td>235.71</td>\n",
       "      <td>0.0</td>\n",
       "      <td>50 x 50</td>\n",
       "      <td>0.99243</td>\n",
       "      <td>0.00012</td>\n",
       "      <td>...</td>\n",
       "      <td>NaN</td>\n",
       "      <td>NaN</td>\n",
       "      <td>1.06</td>\n",
       "      <td>0.004507</td>\n",
       "      <td>0.0</td>\n",
       "      <td>-0.075125</td>\n",
       "      <td>NaN</td>\n",
       "      <td>1086.5</td>\n",
       "      <td>NaN</td>\n",
       "      <td>NaN</td>\n",
       "    </tr>\n",
       "    <tr>\n",
       "      <th>2023-01-03 09:30:00</th>\n",
       "      <td>150.0</td>\n",
       "      <td>1.04975</td>\n",
       "      <td>2023-03-17</td>\n",
       "      <td>233.00</td>\n",
       "      <td>234.58</td>\n",
       "      <td>236.86</td>\n",
       "      <td>0.0</td>\n",
       "      <td>10 x 10</td>\n",
       "      <td>0.98469</td>\n",
       "      <td>0.00014</td>\n",
       "      <td>...</td>\n",
       "      <td>NaN</td>\n",
       "      <td>NaN</td>\n",
       "      <td>2.28</td>\n",
       "      <td>0.009672</td>\n",
       "      <td>0.0</td>\n",
       "      <td>-0.004794</td>\n",
       "      <td>NaN</td>\n",
       "      <td>1758.5</td>\n",
       "      <td>NaN</td>\n",
       "      <td>NaN</td>\n",
       "    </tr>\n",
       "  </tbody>\n",
       "</table>\n",
       "<p>5 rows × 31 columns</p>\n",
       "</div>"
      ],
      "text/plain": [
       "                     strike       iv expire_date    last     bid     ask  \\\n",
       "datetime                                                                   \n",
       "2023-01-03 09:30:00   120.0  0.47386  2024-12-20  261.90  261.80  271.80   \n",
       "2023-01-03 09:30:00   130.0  0.42520  2024-12-20  240.32  254.50  259.50   \n",
       "2023-01-03 09:30:00   140.0  0.44175  2024-12-20    0.00  243.71  253.71   \n",
       "2023-01-03 09:30:00   150.0  1.15171  2023-02-17  230.63  234.65  235.71   \n",
       "2023-01-03 09:30:00   150.0  1.04975  2023-03-17  233.00  234.58  236.86   \n",
       "\n",
       "                     volume     size    delta    gamma  ...  ailliq  \\\n",
       "datetime                                                ...           \n",
       "2023-01-03 09:30:00     0.0  20 x 10  0.96802  0.00026  ...     NaN   \n",
       "2023-01-03 09:30:00     0.0    1 x 1  0.96702  0.00020  ...     NaN   \n",
       "2023-01-03 09:30:00     0.0  20 x 20  0.95863  0.00024  ...     NaN   \n",
       "2023-01-03 09:30:00     0.0  50 x 50  0.99243  0.00012  ...     NaN   \n",
       "2023-01-03 09:30:00     0.0  10 x 10  0.98469  0.00014  ...     NaN   \n",
       "\n",
       "                     amihudilliq  baspread  rel_baspread  open_return  \\\n",
       "datetime                                                                \n",
       "2023-01-03 09:30:00          NaN     10.00      0.037481          0.0   \n",
       "2023-01-03 09:30:00          NaN      5.00      0.019455          0.0   \n",
       "2023-01-03 09:30:00          NaN     10.00      0.040207          0.0   \n",
       "2023-01-03 09:30:00          NaN      1.06      0.004507          0.0   \n",
       "2023-01-03 09:30:00          NaN      2.28      0.009672          0.0   \n",
       "\n",
       "                     option_return  std_amihud  time_to_expiry  scaled_volga  \\\n",
       "datetime                                                                       \n",
       "2023-01-03 09:30:00            NaN         NaN         17214.5           NaN   \n",
       "2023-01-03 09:30:00      -0.063650         NaN         17214.5           NaN   \n",
       "2023-01-03 09:30:00      -0.060848         NaN         17214.5           NaN   \n",
       "2023-01-03 09:30:00      -0.075125         NaN          1086.5           NaN   \n",
       "2023-01-03 09:30:00      -0.004794         NaN          1758.5           NaN   \n",
       "\n",
       "                     zerotrade  \n",
       "datetime                        \n",
       "2023-01-03 09:30:00        NaN  \n",
       "2023-01-03 09:30:00        NaN  \n",
       "2023-01-03 09:30:00        NaN  \n",
       "2023-01-03 09:30:00        NaN  \n",
       "2023-01-03 09:30:00        NaN  \n",
       "\n",
       "[5 rows x 31 columns]"
      ]
     },
     "execution_count": 190,
     "metadata": {},
     "output_type": "execute_result"
    }
   ],
   "source": [
    "df_labeled.head()"
   ]
  },
  {
   "cell_type": "code",
   "execution_count": null,
   "metadata": {},
   "outputs": [],
   "source": []
  }
 ],
 "metadata": {
  "kernelspec": {
   "display_name": "options_env",
   "language": "python",
   "name": "python3"
  },
  "language_info": {
   "codemirror_mode": {
    "name": "ipython",
    "version": 3
   },
   "file_extension": ".py",
   "mimetype": "text/x-python",
   "name": "python",
   "nbconvert_exporter": "python",
   "pygments_lexer": "ipython3",
   "version": "3.13.2"
  }
 },
 "nbformat": 4,
 "nbformat_minor": 2
}
